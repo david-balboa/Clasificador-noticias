{
 "cells": [
  {
   "cell_type": "code",
   "execution_count": 1,
   "id": "3c91b298",
   "metadata": {},
   "outputs": [],
   "source": [
    "from Data import *\n",
    "from Tools import *\n",
    "from Naive_Bayes import *\n",
    "\n",
    "import random\n",
    "import time"
   ]
  },
  {
   "cell_type": "markdown",
   "id": "8d5dd82b",
   "metadata": {},
   "source": [
    "### Load data"
   ]
  },
  {
   "cell_type": "code",
   "execution_count": 2,
   "id": "d66782ba",
   "metadata": {},
   "outputs": [],
   "source": [
    "data = get_data(\"./Boydstun_NYT_FrontPage_Dataset_1996-2006_0.csv\", \"Article_ID\")\n",
    "topic_col = \"Topic_2digit\""
   ]
  },
  {
   "cell_type": "markdown",
   "id": "79440d29",
   "metadata": {},
   "source": [
    "### N-fold validation"
   ]
  },
  {
   "cell_type": "code",
   "execution_count": 6,
   "id": "0ff1921b",
   "metadata": {},
   "outputs": [],
   "source": [
    "def get_error_model(data, selected_words, dict_features, news_per_topic, words_topic_dictionary, model, debug=False):\n",
    "    error = 0\n",
    "    hits = {} # key:topic, value:nº of hits\n",
    "    \n",
    "    for topic in news_per_topic.keys():\n",
    "        hits[topic] = 0\n",
    "        \n",
    "    for n_id in dict_features.keys():\n",
    "        result_topic = model(news_per_topic, words_topic_dictionary, selected_words, dict_features[n_id])\n",
    "        real_topic = data.loc[n_id][topic_col]\n",
    "        \n",
    "        if result_topic == real_topic:\n",
    "            hits[result_topic] += 1\n",
    "        else:\n",
    "            error += 1\n",
    "    \n",
    "    if debug:\n",
    "        for topic in news_per_topic.keys():\n",
    "            hit_pct = float(hits[topic])/news_per_topic[topic]\n",
    "            print (f\"Tópico:{topic} / Aciertos:{hits[topic]} / Notícias:{news_per_topic[topic]} ---> %.2f%%\" %(hit_pct*100))\n",
    "    \n",
    "    return float(error)/len(dict_features.keys())"
   ]
  },
  {
   "cell_type": "code",
   "execution_count": 7,
   "id": "e6bd42a2",
   "metadata": {},
   "outputs": [],
   "source": [
    "def n_fold(data, n, model):\n",
    "    # shuffle the indexes in DataFrame\n",
    "    indexes = list(data.index)\n",
    "    rnd.shuffle(indexes)\n",
    "    \n",
    "    # to add a new column 'mod' with the result of applying modulo operation 'n' to shuffled indexes\n",
    "    data[\"mod\"] = [id%n for id in indexes]\n",
    "    \n",
    "    # 'n_fold' validation method\n",
    "    total_error = 0\n",
    "    for i in range(n):\n",
    "        data_test = data[data[\"mod\"] == i] # contains 1/n of the data\n",
    "        data_training = data[data[\"mod\"] != i] # contains (n-1)/n of the data\n",
    "        \n",
    "        # 1. let's build the auxiliary dictionaries with the information of the data in 'data_training'\n",
    "        news_per_topic = get_topic_news_count(data_training, topic_col)\n",
    "        words_dictionary = get_word_count(data_training)\n",
    "        words_topic_dictionary = get_word_topic_count(data_training)\n",
    "        \n",
    "        # 2. let's pick the 'N' words more representatives for each topic and get a list of all of them (without repetition)\n",
    "        N = 15\n",
    "        top_words = get_top_N_words(data_training, words_dictionary, words_topic_dictionary, news_per_topic, N)\n",
    "        selected_words = get_selected_words(top_words)\n",
    "        \n",
    "        # 3. let's take the features vector for each one of the news in 'data_test'\n",
    "        dict_features = create_features(data_test, selected_words)\n",
    "        \n",
    "        # 4. to calculate the error value for 'data_test' with the given model\n",
    "        error = get_error_model(data_test, selected_words, dict_features, news_per_topic, words_topic_dictionary, model)\n",
    "        total_error += error\n",
    "        \n",
    "    return float(total_error)/n"
   ]
  },
  {
   "cell_type": "markdown",
   "id": "08b88369",
   "metadata": {},
   "source": [
    "### Naïve-Bayes model"
   ]
  },
  {
   "cell_type": "code",
   "execution_count": 8,
   "id": "6c592be7",
   "metadata": {},
   "outputs": [
    {
     "name": "stdout",
     "output_type": "stream",
     "text": [
      "Processing time: 1677254.830 ms\n",
      "ERROR 50-fold: 57.37%\n"
     ]
    }
   ],
   "source": [
    "t_init = time.perf_counter()\n",
    "n = 50\n",
    "error_n_fold = n_fold(data, n, get_naive_bayes_topic)\n",
    "t_end = time.perf_counter()\n",
    "print (\"Processing time: %0.3f ms\" % ((t_end-t_init)*1000))\n",
    "print (f\"ERROR {n}-fold: %.2f%%\" %(error_n_fold*100))"
   ]
  },
  {
   "cell_type": "markdown",
   "id": "884ee66d",
   "metadata": {},
   "source": [
    "### Random model"
   ]
  },
  {
   "cell_type": "code",
   "execution_count": 9,
   "id": "06424500",
   "metadata": {},
   "outputs": [],
   "source": [
    "def get_random_topic(news_per_topic, * args):\n",
    "    return rnd.choice(news_per_topic.keys())"
   ]
  },
  {
   "cell_type": "code",
   "execution_count": 10,
   "id": "0649defb",
   "metadata": {
    "scrolled": true
   },
   "outputs": [
    {
     "name": "stdout",
     "output_type": "stream",
     "text": [
      "Processing time: 650125.633 ms\n",
      "ERROR 50-fold: 96.33%\n"
     ]
    }
   ],
   "source": [
    "t_init = time.perf_counter()\n",
    "n = 50\n",
    "error_n_fold = n_fold(data, n, get_random_topic)\n",
    "t_end = time.perf_counter()\n",
    "print (\"Processing time: %0.3f ms\" % ((t_end-t_init)*1000))\n",
    "print (f\"ERROR {n}-fold: %.2f%%\" %(error_n_fold*100))"
   ]
  }
 ],
 "metadata": {
  "kernelspec": {
   "display_name": "Python 3",
   "language": "python",
   "name": "python3"
  },
  "language_info": {
   "codemirror_mode": {
    "name": "ipython",
    "version": 3
   },
   "file_extension": ".py",
   "mimetype": "text/x-python",
   "name": "python",
   "nbconvert_exporter": "python",
   "pygments_lexer": "ipython3",
   "version": "3.8.8"
  }
 },
 "nbformat": 4,
 "nbformat_minor": 5
}
